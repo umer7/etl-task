{
 "cells": [
  {
   "cell_type": "code",
   "execution_count": 9,
   "metadata": {},
   "outputs": [],
   "source": [
    "import pytesseract\n",
    "import os\n",
    "from docx import Document\n",
    "from PIL import Image\n",
    "import pandas as pd"
   ]
  },
  {
   "cell_type": "code",
   "execution_count": 10,
   "metadata": {},
   "outputs": [],
   "source": [
    "pytesseract.pytesseract.tesseract_cmd = 'C:\\\\Program Files (x86)\\\\Tesseract-OCR\\\\tesseract'\n"
   ]
  },
  {
   "cell_type": "code",
   "execution_count": 11,
   "metadata": {},
   "outputs": [],
   "source": [
    "imglis=os.listdir('Dumps')"
   ]
  },
  {
   "cell_type": "code",
   "execution_count": 12,
   "metadata": {},
   "outputs": [],
   "source": [
    "df22=pd.DataFrame()"
   ]
  },
  {
   "cell_type": "code",
   "execution_count": 16,
   "metadata": {},
   "outputs": [
    {
     "name": "stdout",
     "output_type": "stream",
     "text": [
      "10.jpg\n",
      "This is forst\n",
      "                                                    0\n",
      "0                                                    \n",
      "1                                                    \n",
      "2   10 of 60. Which two objects can be members of ...\n",
      "3                                    Choose 2 answers\n",
      "4                                                    \n",
      "5                                            A.M Lead\n",
      "6                                                    \n",
      "7                                   B. CJ Opportunity\n",
      "8                                        c. H Contact\n",
      "9                                      D. DO Account:\n",
      "10                                                   \n",
      "11                                                   \n",
      "12                                                   \n",
      "13                                                   \n",
      "14                                                   \n",
      "15                                                  (\n",
      "11.jpg\n",
      "                                                    0\n",
      "0                                                    \n",
      "1                                                    \n",
      "2   10 of 60. Which two objects can be members of ...\n",
      "3                                    Choose 2 answers\n",
      "4                                                    \n",
      "5                                            A.M Lead\n",
      "6                                                    \n",
      "7                                   B. CJ Opportunity\n",
      "8                                        c. H Contact\n",
      "9                                      D. DO Account:\n",
      "10                                                   \n",
      "11                                                   \n",
      "12                                                   \n",
      "13                                                   \n",
      "14                                                   \n",
      "15                                                  (\n",
      "12.jpg\n",
      "                                                    0\n",
      "0                                                    \n",
      "1                                                    \n",
      "2   10 of 60. Which two objects can be members of ...\n",
      "3                                    Choose 2 answers\n",
      "4                                                    \n",
      "5                                            A.M Lead\n",
      "6                                                    \n",
      "7                                   B. CJ Opportunity\n",
      "8                                        c. H Contact\n",
      "9                                      D. DO Account:\n",
      "10                                                   \n",
      "11                                                   \n",
      "12                                                   \n",
      "13                                                   \n",
      "14                                                   \n",
      "15                                                  (\n",
      "13.jpg\n",
      "                                                    0\n",
      "0                                                    \n",
      "1                                                    \n",
      "2   10 of 60. Which two objects can be members of ...\n",
      "3                                    Choose 2 answers\n",
      "4                                                    \n",
      "5                                            A.M Lead\n",
      "6                                                    \n",
      "7                                   B. CJ Opportunity\n",
      "8                                        c. H Contact\n",
      "9                                      D. DO Account:\n",
      "10                                                   \n",
      "11                                                   \n",
      "12                                                   \n",
      "13                                                   \n",
      "14                                                   \n",
      "15                                                  (\n"
     ]
    }
   ],
   "source": [
    "lis2=[]\n",
    "\n",
    "for i in range(1,5):\n",
    "    print(imglis[i])\n",
    "    path='Dumps/'+imglis[i]\n",
    "    txt=pytesseract.image_to_string(Image.open(path))\n",
    "    hd='Qestion for ' +imglis[i]\n",
    "    text = txt\n",
    "    left = 'Platform App Builder (SP19)'\n",
    "    right = 'Mark this item for later review'\n",
    "    if(i==1):\n",
    "        txt2=text[text.index(left)+len(left):text.index(right)]\n",
    "\n",
    "        df22 = pd.DataFrame([x.split('[ \\t]*,[ \\t]*') for x in txt2.split('\\n')])\n",
    "        print('This is forst')\n",
    "        \n",
    "    try:\n",
    "        txt2=text[text.index(left)+len(left):text.index(right)]\n",
    "        #print(txt2)\n",
    "        #lis2.append(txt2)\n",
    "        data2 = pd.DataFrame([x.split('[ \\t]*,[ \\t]*') for x in txt2.split('\\n')])\n",
    "\n",
    "        \n",
    "        \n",
    "    except:\n",
    "        print('EXP occur')\n",
    "        print(txt)\n",
    "    datatrans=data2.T\n",
    "    #print(datatrans)\n",
    "    df22.append(datatrans,ignore_index=True)\n",
    "    print(df22)\n"
   ]
  },
  {
   "cell_type": "code",
   "execution_count": 15,
   "metadata": {},
   "outputs": [
    {
     "data": {
      "text/html": [
       "<div>\n",
       "<style scoped>\n",
       "    .dataframe tbody tr th:only-of-type {\n",
       "        vertical-align: middle;\n",
       "    }\n",
       "\n",
       "    .dataframe tbody tr th {\n",
       "        vertical-align: top;\n",
       "    }\n",
       "\n",
       "    .dataframe thead th {\n",
       "        text-align: right;\n",
       "    }\n",
       "</style>\n",
       "<table border=\"1\" class=\"dataframe\">\n",
       "  <thead>\n",
       "    <tr style=\"text-align: right;\">\n",
       "      <th></th>\n",
       "      <th>0</th>\n",
       "    </tr>\n",
       "  </thead>\n",
       "  <tbody>\n",
       "    <tr>\n",
       "      <th>0</th>\n",
       "      <td></td>\n",
       "    </tr>\n",
       "    <tr>\n",
       "      <th>1</th>\n",
       "      <td></td>\n",
       "    </tr>\n",
       "    <tr>\n",
       "      <th>2</th>\n",
       "      <td>10 of 60. Which two objects can be members of ...</td>\n",
       "    </tr>\n",
       "    <tr>\n",
       "      <th>3</th>\n",
       "      <td>Choose 2 answers</td>\n",
       "    </tr>\n",
       "    <tr>\n",
       "      <th>4</th>\n",
       "      <td></td>\n",
       "    </tr>\n",
       "    <tr>\n",
       "      <th>5</th>\n",
       "      <td>A.M Lead</td>\n",
       "    </tr>\n",
       "    <tr>\n",
       "      <th>6</th>\n",
       "      <td></td>\n",
       "    </tr>\n",
       "    <tr>\n",
       "      <th>7</th>\n",
       "      <td>B. CJ Opportunity</td>\n",
       "    </tr>\n",
       "    <tr>\n",
       "      <th>8</th>\n",
       "      <td>c. H Contact</td>\n",
       "    </tr>\n",
       "    <tr>\n",
       "      <th>9</th>\n",
       "      <td>D. DO Account:</td>\n",
       "    </tr>\n",
       "    <tr>\n",
       "      <th>10</th>\n",
       "      <td></td>\n",
       "    </tr>\n",
       "    <tr>\n",
       "      <th>11</th>\n",
       "      <td></td>\n",
       "    </tr>\n",
       "    <tr>\n",
       "      <th>12</th>\n",
       "      <td></td>\n",
       "    </tr>\n",
       "    <tr>\n",
       "      <th>13</th>\n",
       "      <td></td>\n",
       "    </tr>\n",
       "    <tr>\n",
       "      <th>14</th>\n",
       "      <td></td>\n",
       "    </tr>\n",
       "    <tr>\n",
       "      <th>15</th>\n",
       "      <td>(</td>\n",
       "    </tr>\n",
       "  </tbody>\n",
       "</table>\n",
       "</div>"
      ],
      "text/plain": [
       "                                                    0\n",
       "0                                                    \n",
       "1                                                    \n",
       "2   10 of 60. Which two objects can be members of ...\n",
       "3                                    Choose 2 answers\n",
       "4                                                    \n",
       "5                                            A.M Lead\n",
       "6                                                    \n",
       "7                                   B. CJ Opportunity\n",
       "8                                        c. H Contact\n",
       "9                                      D. DO Account:\n",
       "10                                                   \n",
       "11                                                   \n",
       "12                                                   \n",
       "13                                                   \n",
       "14                                                   \n",
       "15                                                  ("
      ]
     },
     "execution_count": 15,
     "metadata": {},
     "output_type": "execute_result"
    }
   ],
   "source": [
    "df22"
   ]
  },
  {
   "cell_type": "code",
   "execution_count": null,
   "metadata": {},
   "outputs": [],
   "source": [
    "import pandas as pd"
   ]
  },
  {
   "cell_type": "code",
   "execution_count": null,
   "metadata": {},
   "outputs": [],
   "source": [
    "data2 = pd.DataFrame('m1.txt', sep = \"[ \\t]*,[ \\t]*\", header=None)\n"
   ]
  },
  {
   "cell_type": "code",
   "execution_count": null,
   "metadata": {},
   "outputs": [],
   "source": [
    "data=lis2[1]"
   ]
  },
  {
   "cell_type": "code",
   "execution_count": null,
   "metadata": {},
   "outputs": [],
   "source": [
    "df = pd.DataFrame([x.split('[ \\t]*,[ \\t]*') for x in data.split('\\n')])\n"
   ]
  },
  {
   "cell_type": "code",
   "execution_count": null,
   "metadata": {},
   "outputs": [],
   "source": [
    "df\n"
   ]
  },
  {
   "cell_type": "code",
   "execution_count": null,
   "metadata": {},
   "outputs": [],
   "source": [
    "data2 = pd.melt(lis2[1], sep = \"[ \\t]*,[ \\t]*\", header=None)\n"
   ]
  },
  {
   "cell_type": "code",
   "execution_count": null,
   "metadata": {},
   "outputs": [],
   "source": [
    "data"
   ]
  },
  {
   "cell_type": "code",
   "execution_count": null,
   "metadata": {},
   "outputs": [],
   "source": [
    "datatrans=data2.T"
   ]
  },
  {
   "cell_type": "code",
   "execution_count": null,
   "metadata": {},
   "outputs": [],
   "source": [
    "datatrans"
   ]
  },
  {
   "cell_type": "code",
   "execution_count": null,
   "metadata": {},
   "outputs": [],
   "source": [
    "lis=[]\n",
    "lis.append(datatrans.values)"
   ]
  },
  {
   "cell_type": "code",
   "execution_count": null,
   "metadata": {},
   "outputs": [],
   "source": [
    "import numpy"
   ]
  },
  {
   "cell_type": "code",
   "execution_count": null,
   "metadata": {},
   "outputs": [],
   "source": [
    "type(lis)"
   ]
  },
  {
   "cell_type": "code",
   "execution_count": null,
   "metadata": {},
   "outputs": [],
   "source": [
    "lis.append(datatrans.values)"
   ]
  },
  {
   "cell_type": "code",
   "execution_count": null,
   "metadata": {},
   "outputs": [],
   "source": [
    "lis"
   ]
  },
  {
   "cell_type": "code",
   "execution_count": null,
   "metadata": {},
   "outputs": [],
   "source": [
    "df = pd.DataFrame(lis) "
   ]
  },
  {
   "cell_type": "code",
   "execution_count": null,
   "metadata": {},
   "outputs": [],
   "source": [
    "df"
   ]
  },
  {
   "cell_type": "code",
   "execution_count": null,
   "metadata": {},
   "outputs": [],
   "source": []
  }
 ],
 "metadata": {
  "kernelspec": {
   "display_name": "Python 3",
   "language": "python",
   "name": "python3"
  },
  "language_info": {
   "codemirror_mode": {
    "name": "ipython",
    "version": 3
   },
   "file_extension": ".py",
   "mimetype": "text/x-python",
   "name": "python",
   "nbconvert_exporter": "python",
   "pygments_lexer": "ipython3",
   "version": "3.6.5"
  }
 },
 "nbformat": 4,
 "nbformat_minor": 2
}
