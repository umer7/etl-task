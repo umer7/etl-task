{
 "cells": [
  {
   "cell_type": "code",
   "execution_count": 1,
   "metadata": {},
   "outputs": [],
   "source": [
    "from bs4 import BeautifulSoup\n",
    "import pandas as pd\n",
    "file=open(\"Tickets57.xml\", encoding=\"utf-8\")\n",
    "sp=BeautifulSoup(file, \"xml\")"
   ]
  },
  {
   "cell_type": "code",
   "execution_count": 2,
   "metadata": {},
   "outputs": [],
   "source": [
    "titles = sp.find_all('body')\n",
    "ccemail = sp.find_all('cc-emails')\n",
    "reply = sp.find_all('reply-cc')\n",
    "tkt = sp.find_all('tkt-cc')\n",
    "fwd = sp.find_all('fwd-emails')\n",
    "bcc = sp.find_all('bcc-emails')\n",
    "cre = sp.find_all('created-at')\n",
    "\n",
    "\n",
    "help1 = sp.find_all('helpdesk-ticket')"
   ]
  },
  {
   "cell_type": "code",
   "execution_count": null,
   "metadata": {},
   "outputs": [],
   "source": []
  },
  {
   "cell_type": "code",
   "execution_count": null,
   "metadata": {},
   "outputs": [],
   "source": [
    "len(help1)"
   ]
  },
  {
   "cell_type": "raw",
   "metadata": {},
   "source": [
    "help13=help1[2].findChildren(\"cc-email\" , recursive=False)"
   ]
  },
  {
   "cell_type": "raw",
   "metadata": {},
   "source": [
    "for child in help13:\n",
    "    \n",
    "    print (child.get_text())\n",
    "    print (child)"
   ]
  },
  {
   "cell_type": "raw",
   "metadata": {},
   "source": [
    "help13.find(\"reply-cc\")"
   ]
  },
  {
   "cell_type": "raw",
   "metadata": {},
   "source": [
    "l3 = sp.findall('helpdesk-ticket')"
   ]
  },
  {
   "cell_type": "raw",
   "metadata": {},
   "source": [
    "li.find('fwd-emails')"
   ]
  },
  {
   "cell_type": "raw",
   "metadata": {},
   "source": [
    "li"
   ]
  },
  {
   "cell_type": "raw",
   "metadata": {},
   "source": [
    "children = li.findChildren('body' , recursive=False)\n"
   ]
  },
  {
   "cell_type": "raw",
   "metadata": {},
   "source": [
    "for child in children:\n",
    "    \n",
    "    print (child)"
   ]
  },
  {
   "cell_type": "code",
   "execution_count": 3,
   "metadata": {},
   "outputs": [],
   "source": [
    "df = pd.DataFrame(columns=['cc_email','fwd_email','bcc_email','reply_cc','tkt_cc','created_at','body'])\n",
    "titlelen=len(help1)\n",
    "cc_email=[]\n",
    "fwd_email=[]\n",
    "bcc_email=[]\n",
    "reply_cc=[]\n",
    "tkt_cc=[]\n",
    "created_at=[]\n",
    "body=[]"
   ]
  },
  {
   "cell_type": "code",
   "execution_count": null,
   "metadata": {},
   "outputs": [],
   "source": []
  },
  {
   "cell_type": "code",
   "execution_count": null,
   "metadata": {},
   "outputs": [],
   "source": [
    "len(ccemail)"
   ]
  },
  {
   "cell_type": "code",
   "execution_count": null,
   "metadata": {},
   "outputs": [],
   "source": []
  },
  {
   "cell_type": "code",
   "execution_count": 4,
   "metadata": {},
   "outputs": [],
   "source": [
    "for i in range(0,titlelen):\n",
    "    try:\n",
    "        cc_email.append(ccemail[i].get_text())\n",
    "    except:\n",
    "        cc_email.append(None)\n",
    "    try:\n",
    "        fwd_email.append(fwd[i].get_text())\n",
    "    except:\n",
    "        fwd_email.append(None)\n",
    "        \n",
    "    try:\n",
    "        bcc_email.append(bcc[i].get_text())\n",
    "    except:\n",
    "        bcc_email.append(None)    \n",
    "#ssd \n",
    "    try:\n",
    "        reply_cc.append(reply[i].get_text())\n",
    "    except:\n",
    "        reply_cc.append(None)\n",
    "    try:\n",
    "        tkt_cc.append(ccemail[i].get_text())\n",
    "    except:\n",
    "        tkt_cc.append(None)\n",
    "            \n",
    "    \n",
    "    created_at.append(cre[i].get_text())\n",
    "    body.append(titles[i].get_text())"
   ]
  },
  {
   "cell_type": "raw",
   "metadata": {},
   "source": [
    "len(cc_email)\n",
    "\n",
    " try:\n",
    "        cc_email.append(ccemail[i].get_text())\n",
    "    except:\n",
    "        cc_email.append(None)\n",
    "   "
   ]
  },
  {
   "cell_type": "code",
   "execution_count": null,
   "metadata": {},
   "outputs": [],
   "source": [
    "len(body)"
   ]
  },
  {
   "cell_type": "code",
   "execution_count": null,
   "metadata": {},
   "outputs": [],
   "source": [
    "#cc_email"
   ]
  },
  {
   "cell_type": "code",
   "execution_count": 5,
   "metadata": {},
   "outputs": [],
   "source": [
    "df['cc_email']=cc_email\n",
    "df['fwd_email']=fwd_email\n",
    "df['bcc_email']=bcc_email\n",
    "df['reply_cc']=reply_cc\n",
    "df['tkt_cc']=tkt_cc\n",
    "df['created_at']=created_at\n",
    "df['body']=body\n",
    "\t\t\t\t"
   ]
  },
  {
   "cell_type": "code",
   "execution_count": null,
   "metadata": {},
   "outputs": [],
   "source": [
    "\n"
   ]
  },
  {
   "cell_type": "code",
   "execution_count": 6,
   "metadata": {},
   "outputs": [
    {
     "data": {
      "text/html": [
       "<div>\n",
       "<style scoped>\n",
       "    .dataframe tbody tr th:only-of-type {\n",
       "        vertical-align: middle;\n",
       "    }\n",
       "\n",
       "    .dataframe tbody tr th {\n",
       "        vertical-align: top;\n",
       "    }\n",
       "\n",
       "    .dataframe thead th {\n",
       "        text-align: right;\n",
       "    }\n",
       "</style>\n",
       "<table border=\"1\" class=\"dataframe\">\n",
       "  <thead>\n",
       "    <tr style=\"text-align: right;\">\n",
       "      <th></th>\n",
       "      <th>cc_email</th>\n",
       "      <th>fwd_email</th>\n",
       "      <th>bcc_email</th>\n",
       "      <th>reply_cc</th>\n",
       "      <th>tkt_cc</th>\n",
       "      <th>created_at</th>\n",
       "      <th>body</th>\n",
       "    </tr>\n",
       "  </thead>\n",
       "  <tbody>\n",
       "    <tr>\n",
       "      <th>0</th>\n",
       "      <td></td>\n",
       "      <td></td>\n",
       "      <td></td>\n",
       "      <td></td>\n",
       "      <td></td>\n",
       "      <td>2018-07-03T09:03:00-06:00</td>\n",
       "      <td>Spoke with Kris. Got it clarified. All set.\\n\\...</td>\n",
       "    </tr>\n",
       "    <tr>\n",
       "      <th>1</th>\n",
       "      <td>\\npengf@montclair.edu\\n</td>\n",
       "      <td></td>\n",
       "      <td></td>\n",
       "      <td></td>\n",
       "      <td>\\npengf@montclair.edu\\n</td>\n",
       "      <td>2018-07-03T09:09:19-06:00</td>\n",
       "      <td>Hi Rajeev,     It was nice speaking with you t...</td>\n",
       "    </tr>\n",
       "    <tr>\n",
       "      <th>2</th>\n",
       "      <td>\\ncaroline.m.hayes@hult.edu\\n</td>\n",
       "      <td></td>\n",
       "      <td></td>\n",
       "      <td>\\ncaroline.m.hayes@hult.edu\\n</td>\n",
       "      <td>\\ncaroline.m.hayes@hult.edu\\n</td>\n",
       "      <td>2018-07-03T09:10:01-06:00</td>\n",
       "      <td>Hello John,     Thanks for reaching out today,...</td>\n",
       "    </tr>\n",
       "    <tr>\n",
       "      <th>3</th>\n",
       "      <td></td>\n",
       "      <td></td>\n",
       "      <td></td>\n",
       "      <td>caroline.m.hayes@hult.edu</td>\n",
       "      <td></td>\n",
       "      <td>2018-07-03T09:20:13-06:00</td>\n",
       "      <td>Canvas made a recent change, which caused our ...</td>\n",
       "    </tr>\n",
       "    <tr>\n",
       "      <th>4</th>\n",
       "      <td></td>\n",
       "      <td></td>\n",
       "      <td></td>\n",
       "      <td></td>\n",
       "      <td></td>\n",
       "      <td>2018-07-03T09:38:49-06:00</td>\n",
       "      <td>Hello John,     I just called and left you a v...</td>\n",
       "    </tr>\n",
       "  </tbody>\n",
       "</table>\n",
       "</div>"
      ],
      "text/plain": [
       "                        cc_email fwd_email bcc_email  \\\n",
       "0                                                      \n",
       "1        \\npengf@montclair.edu\\n                       \n",
       "2  \\ncaroline.m.hayes@hult.edu\\n                       \n",
       "3                                                      \n",
       "4                                                      \n",
       "\n",
       "                        reply_cc                         tkt_cc  \\\n",
       "0                                                                 \n",
       "1                                       \\npengf@montclair.edu\\n   \n",
       "2  \\ncaroline.m.hayes@hult.edu\\n  \\ncaroline.m.hayes@hult.edu\\n   \n",
       "3      caroline.m.hayes@hult.edu                                  \n",
       "4                                                                 \n",
       "\n",
       "                  created_at  \\\n",
       "0  2018-07-03T09:03:00-06:00   \n",
       "1  2018-07-03T09:09:19-06:00   \n",
       "2  2018-07-03T09:10:01-06:00   \n",
       "3  2018-07-03T09:20:13-06:00   \n",
       "4  2018-07-03T09:38:49-06:00   \n",
       "\n",
       "                                                body  \n",
       "0  Spoke with Kris. Got it clarified. All set.\\n\\...  \n",
       "1  Hi Rajeev,     It was nice speaking with you t...  \n",
       "2  Hello John,     Thanks for reaching out today,...  \n",
       "3  Canvas made a recent change, which caused our ...  \n",
       "4  Hello John,     I just called and left you a v...  "
      ]
     },
     "execution_count": 6,
     "metadata": {},
     "output_type": "execute_result"
    }
   ],
   "source": [
    "df.head()"
   ]
  },
  {
   "cell_type": "code",
   "execution_count": 7,
   "metadata": {},
   "outputs": [],
   "source": [
    "def rem(l2 = [], *args):    \n",
    "    for i in range(len(l2)):\n",
    "        try:\n",
    "            l2[i]=l2[i].replace('\\n',' ')\n",
    "        except:\n",
    "            print(\"1\")\n",
    "    return l2    "
   ]
  },
  {
   "cell_type": "code",
   "execution_count": 8,
   "metadata": {},
   "outputs": [
    {
     "name": "stdout",
     "output_type": "stream",
     "text": [
      "1\n"
     ]
    }
   ],
   "source": [
    "df['body']=rem(df['body'])\n",
    "df['cc_email']=rem(df['cc_email'])\n",
    "df['fwd_email']=rem(df['fwd_email'])\n",
    "df['bcc_email']=rem(df['bcc_email'])\n",
    "df['reply_cc']=rem(df['reply_cc'])\n",
    "df['tkt_cc']=rem(df['tkt_cc'])\n"
   ]
  },
  {
   "cell_type": "code",
   "execution_count": 12,
   "metadata": {},
   "outputs": [],
   "source": [
    "df.to_csv('output3.csv', index=False)"
   ]
  },
  {
   "cell_type": "code",
   "execution_count": null,
   "metadata": {},
   "outputs": [],
   "source": []
  },
  {
   "cell_type": "code",
   "execution_count": null,
   "metadata": {},
   "outputs": [],
   "source": []
  }
 ],
 "metadata": {
  "hide_input": false,
  "kernelspec": {
   "display_name": "Python 3",
   "language": "python",
   "name": "python3"
  },
  "language_info": {
   "codemirror_mode": {
    "name": "ipython",
    "version": 3
   },
   "file_extension": ".py",
   "mimetype": "text/x-python",
   "name": "python",
   "nbconvert_exporter": "python",
   "pygments_lexer": "ipython3",
   "version": "3.6.5"
  }
 },
 "nbformat": 4,
 "nbformat_minor": 2
}
