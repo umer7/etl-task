{
 "cells": [
  {
   "cell_type": "code",
   "execution_count": 78,
   "metadata": {},
   "outputs": [],
   "source": [
    "from bs4 import BeautifulSoup\n"
   ]
  },
  {
   "cell_type": "code",
   "execution_count": 79,
   "metadata": {},
   "outputs": [],
   "source": [
    "import xml.etree.ElementTree as ET"
   ]
  },
  {
   "cell_type": "code",
   "execution_count": 80,
   "metadata": {},
   "outputs": [],
   "source": [
    "root = ET.parse('Tickets57.xml').getroot()"
   ]
  },
  {
   "cell_type": "code",
   "execution_count": 81,
   "metadata": {},
   "outputs": [
    {
     "name": "stdout",
     "output_type": "stream",
     "text": [
      "<Element 'helpdesk-tickets' at 0x0000000024649A98>\n"
     ]
    }
   ],
   "source": [
    "print(root)"
   ]
  },
  {
   "cell_type": "code",
   "execution_count": 82,
   "metadata": {},
   "outputs": [
    {
     "data": {
      "text/plain": [
       "'helpdesk-tickets'"
      ]
     },
     "execution_count": 82,
     "metadata": {},
     "output_type": "execute_result"
    }
   ],
   "source": [
    "root.tag"
   ]
  },
  {
   "cell_type": "code",
   "execution_count": 84,
   "metadata": {},
   "outputs": [
    {
     "name": "stdout",
     "output_type": "stream",
     "text": [
      "helpdesk-ticket\n",
      "helpdesk-ticket\n",
      "helpdesk-ticket\n",
      "helpdesk-ticket\n",
      "helpdesk-ticket\n",
      "helpdesk-ticket\n",
      "helpdesk-ticket\n",
      "helpdesk-ticket\n",
      "helpdesk-ticket\n",
      "helpdesk-ticket\n",
      "helpdesk-ticket\n",
      "helpdesk-ticket\n",
      "helpdesk-ticket\n",
      "helpdesk-ticket\n",
      "helpdesk-ticket\n",
      "helpdesk-ticket\n",
      "helpdesk-ticket\n",
      "helpdesk-ticket\n",
      "helpdesk-ticket\n",
      "helpdesk-ticket\n",
      "helpdesk-ticket\n",
      "helpdesk-ticket\n",
      "helpdesk-ticket\n",
      "helpdesk-ticket\n",
      "helpdesk-ticket\n",
      "helpdesk-ticket\n",
      "helpdesk-ticket\n",
      "helpdesk-ticket\n",
      "helpdesk-ticket\n",
      "helpdesk-ticket\n",
      "helpdesk-ticket\n",
      "helpdesk-ticket\n",
      "helpdesk-ticket\n",
      "helpdesk-ticket\n",
      "helpdesk-ticket\n",
      "helpdesk-ticket\n",
      "helpdesk-ticket\n",
      "helpdesk-ticket\n",
      "helpdesk-ticket\n",
      "helpdesk-ticket\n",
      "helpdesk-ticket\n",
      "helpdesk-ticket\n",
      "helpdesk-ticket\n",
      "helpdesk-ticket\n",
      "helpdesk-ticket\n",
      "helpdesk-ticket\n",
      "helpdesk-ticket\n",
      "helpdesk-ticket\n",
      "helpdesk-ticket\n",
      "helpdesk-ticket\n",
      "helpdesk-ticket\n",
      "helpdesk-ticket\n",
      "helpdesk-ticket\n",
      "helpdesk-ticket\n",
      "helpdesk-ticket\n",
      "helpdesk-ticket\n",
      "helpdesk-ticket\n",
      "helpdesk-ticket\n",
      "helpdesk-ticket\n",
      "helpdesk-ticket\n",
      "helpdesk-ticket\n",
      "helpdesk-ticket\n",
      "helpdesk-ticket\n",
      "helpdesk-ticket\n",
      "helpdesk-ticket\n",
      "helpdesk-ticket\n",
      "helpdesk-ticket\n",
      "helpdesk-ticket\n",
      "helpdesk-ticket\n",
      "helpdesk-ticket\n",
      "helpdesk-ticket\n",
      "helpdesk-ticket\n",
      "helpdesk-ticket\n",
      "helpdesk-ticket\n",
      "helpdesk-ticket\n",
      "helpdesk-ticket\n",
      "helpdesk-ticket\n",
      "helpdesk-ticket\n",
      "helpdesk-ticket\n",
      "helpdesk-ticket\n",
      "helpdesk-ticket\n",
      "helpdesk-ticket\n",
      "helpdesk-ticket\n",
      "helpdesk-ticket\n",
      "helpdesk-ticket\n",
      "helpdesk-ticket\n",
      "helpdesk-ticket\n",
      "helpdesk-ticket\n",
      "helpdesk-ticket\n",
      "helpdesk-ticket\n",
      "helpdesk-ticket\n",
      "helpdesk-ticket\n",
      "helpdesk-ticket\n",
      "helpdesk-ticket\n",
      "helpdesk-ticket\n",
      "helpdesk-ticket\n",
      "helpdesk-ticket\n",
      "helpdesk-ticket\n",
      "helpdesk-ticket\n",
      "helpdesk-ticket\n",
      "helpdesk-ticket\n",
      "helpdesk-ticket\n",
      "helpdesk-ticket\n",
      "helpdesk-ticket\n",
      "helpdesk-ticket\n",
      "helpdesk-ticket\n",
      "helpdesk-ticket\n",
      "helpdesk-ticket\n",
      "helpdesk-ticket\n",
      "helpdesk-ticket\n",
      "helpdesk-ticket\n",
      "helpdesk-ticket\n",
      "helpdesk-ticket\n",
      "helpdesk-ticket\n",
      "helpdesk-ticket\n",
      "helpdesk-ticket\n",
      "helpdesk-ticket\n",
      "helpdesk-ticket\n",
      "helpdesk-ticket\n",
      "helpdesk-ticket\n",
      "helpdesk-ticket\n",
      "helpdesk-ticket\n",
      "helpdesk-ticket\n",
      "helpdesk-ticket\n",
      "helpdesk-ticket\n",
      "helpdesk-ticket\n",
      "helpdesk-ticket\n",
      "helpdesk-ticket\n",
      "helpdesk-ticket\n",
      "helpdesk-ticket\n",
      "helpdesk-ticket\n",
      "helpdesk-ticket\n",
      "helpdesk-ticket\n",
      "helpdesk-ticket\n",
      "helpdesk-ticket\n",
      "helpdesk-ticket\n",
      "helpdesk-ticket\n",
      "helpdesk-ticket\n",
      "helpdesk-ticket\n",
      "helpdesk-ticket\n",
      "helpdesk-ticket\n",
      "helpdesk-ticket\n",
      "helpdesk-ticket\n",
      "helpdesk-ticket\n",
      "helpdesk-ticket\n",
      "helpdesk-ticket\n",
      "helpdesk-ticket\n",
      "helpdesk-ticket\n",
      "helpdesk-ticket\n",
      "helpdesk-ticket\n",
      "helpdesk-ticket\n",
      "helpdesk-ticket\n",
      "helpdesk-ticket\n",
      "helpdesk-ticket\n",
      "helpdesk-ticket\n",
      "helpdesk-ticket\n",
      "helpdesk-ticket\n",
      "helpdesk-ticket\n",
      "helpdesk-ticket\n",
      "helpdesk-ticket\n",
      "helpdesk-ticket\n",
      "helpdesk-ticket\n",
      "helpdesk-ticket\n",
      "helpdesk-ticket\n",
      "helpdesk-ticket\n",
      "helpdesk-ticket\n",
      "helpdesk-ticket\n",
      "helpdesk-ticket\n",
      "helpdesk-ticket\n",
      "helpdesk-ticket\n",
      "helpdesk-ticket\n",
      "helpdesk-ticket\n",
      "helpdesk-ticket\n",
      "helpdesk-ticket\n",
      "helpdesk-ticket\n",
      "helpdesk-ticket\n",
      "helpdesk-ticket\n",
      "helpdesk-ticket\n",
      "helpdesk-ticket\n",
      "helpdesk-ticket\n",
      "helpdesk-ticket\n",
      "helpdesk-ticket\n",
      "helpdesk-ticket\n",
      "helpdesk-ticket\n",
      "helpdesk-ticket\n",
      "helpdesk-ticket\n",
      "helpdesk-ticket\n",
      "helpdesk-ticket\n",
      "helpdesk-ticket\n",
      "helpdesk-ticket\n",
      "helpdesk-ticket\n",
      "helpdesk-ticket\n",
      "helpdesk-ticket\n",
      "helpdesk-ticket\n",
      "helpdesk-ticket\n",
      "helpdesk-ticket\n",
      "helpdesk-ticket\n",
      "helpdesk-ticket\n",
      "helpdesk-ticket\n",
      "helpdesk-ticket\n",
      "helpdesk-ticket\n",
      "helpdesk-ticket\n",
      "helpdesk-ticket\n",
      "helpdesk-ticket\n",
      "helpdesk-ticket\n",
      "helpdesk-ticket\n",
      "helpdesk-ticket\n",
      "helpdesk-ticket\n",
      "helpdesk-ticket\n",
      "helpdesk-ticket\n",
      "helpdesk-ticket\n",
      "helpdesk-ticket\n",
      "helpdesk-ticket\n",
      "helpdesk-ticket\n",
      "helpdesk-ticket\n",
      "helpdesk-ticket\n",
      "helpdesk-ticket\n",
      "helpdesk-ticket\n",
      "helpdesk-ticket\n",
      "helpdesk-ticket\n",
      "helpdesk-ticket\n",
      "helpdesk-ticket\n",
      "helpdesk-ticket\n",
      "helpdesk-ticket\n",
      "helpdesk-ticket\n",
      "helpdesk-ticket\n",
      "helpdesk-ticket\n",
      "helpdesk-ticket\n",
      "helpdesk-ticket\n",
      "helpdesk-ticket\n",
      "helpdesk-ticket\n",
      "helpdesk-ticket\n",
      "helpdesk-ticket\n",
      "helpdesk-ticket\n",
      "helpdesk-ticket\n",
      "helpdesk-ticket\n",
      "helpdesk-ticket\n",
      "helpdesk-ticket\n",
      "helpdesk-ticket\n",
      "helpdesk-ticket\n",
      "helpdesk-ticket\n",
      "helpdesk-ticket\n",
      "helpdesk-ticket\n",
      "helpdesk-ticket\n",
      "helpdesk-ticket\n",
      "helpdesk-ticket\n",
      "helpdesk-ticket\n",
      "helpdesk-ticket\n",
      "helpdesk-ticket\n",
      "helpdesk-ticket\n",
      "helpdesk-ticket\n",
      "helpdesk-ticket\n",
      "helpdesk-ticket\n",
      "helpdesk-ticket\n",
      "helpdesk-ticket\n",
      "helpdesk-ticket\n",
      "helpdesk-ticket\n",
      "helpdesk-ticket\n",
      "helpdesk-ticket\n",
      "helpdesk-ticket\n",
      "helpdesk-ticket\n",
      "helpdesk-ticket\n",
      "helpdesk-ticket\n",
      "helpdesk-ticket\n",
      "helpdesk-ticket\n",
      "helpdesk-ticket\n",
      "helpdesk-ticket\n",
      "helpdesk-ticket\n",
      "helpdesk-ticket\n",
      "helpdesk-ticket\n",
      "helpdesk-ticket\n",
      "helpdesk-ticket\n",
      "helpdesk-ticket\n",
      "helpdesk-ticket\n",
      "helpdesk-ticket\n",
      "helpdesk-ticket\n",
      "helpdesk-ticket\n",
      "helpdesk-ticket\n",
      "helpdesk-ticket\n",
      "helpdesk-ticket\n",
      "helpdesk-ticket\n",
      "helpdesk-ticket\n",
      "helpdesk-ticket\n",
      "helpdesk-ticket\n",
      "helpdesk-ticket\n",
      "helpdesk-ticket\n",
      "helpdesk-ticket\n",
      "helpdesk-ticket\n",
      "helpdesk-ticket\n",
      "helpdesk-ticket\n",
      "helpdesk-ticket\n",
      "helpdesk-ticket\n",
      "helpdesk-ticket\n",
      "helpdesk-ticket\n",
      "helpdesk-ticket\n",
      "helpdesk-ticket\n",
      "helpdesk-ticket\n",
      "helpdesk-ticket\n",
      "helpdesk-ticket\n",
      "helpdesk-ticket\n"
     ]
    }
   ],
   "source": [
    "for child in root:\n",
    "    print(child.tag)\n",
    "    "
   ]
  },
  {
   "cell_type": "code",
   "execution_count": 23,
   "metadata": {},
   "outputs": [],
   "source": [
    "from xml.dom import minidom\n"
   ]
  },
  {
   "cell_type": "code",
   "execution_count": 69,
   "metadata": {},
   "outputs": [],
   "source": [
    "xmldoc = minidom.parse('Tickets57.xml')"
   ]
  },
  {
   "cell_type": "code",
   "execution_count": 70,
   "metadata": {},
   "outputs": [
    {
     "data": {
      "text/plain": [
       "xml.dom.minidom.Document"
      ]
     },
     "execution_count": 70,
     "metadata": {},
     "output_type": "execute_result"
    }
   ],
   "source": [
    "type(xmldoc)"
   ]
  },
  {
   "cell_type": "code",
   "execution_count": 26,
   "metadata": {},
   "outputs": [],
   "source": [
    "itemlist = xmldoc.getElementsByTagName('description')\n"
   ]
  },
  {
   "cell_type": "code",
   "execution_count": 27,
   "metadata": {},
   "outputs": [
    {
     "name": "stdout",
     "output_type": "stream",
     "text": [
      "300\n"
     ]
    }
   ],
   "source": [
    "print(len(itemlist))\n"
   ]
  },
  {
   "cell_type": "code",
   "execution_count": 29,
   "metadata": {},
   "outputs": [
    {
     "name": "stdout",
     "output_type": "stream",
     "text": [
      "<DOM Element: description at 0xd16ef20>\n"
     ]
    }
   ],
   "source": [
    "print(itemlist[0])\n"
   ]
  },
  {
   "cell_type": "code",
   "execution_count": 40,
   "metadata": {},
   "outputs": [
    {
     "data": {
      "text/plain": [
       "<DOM Element: description at 0xd16ef20>"
      ]
     },
     "execution_count": 40,
     "metadata": {},
     "output_type": "execute_result"
    }
   ],
   "source": [
    "(itemlist[0])\n"
   ]
  },
  {
   "cell_type": "code",
   "execution_count": 55,
   "metadata": {},
   "outputs": [],
   "source": [
    "def getText(nodelist):\n",
    "    rc = []\n",
    "    for node in nodelist:\n",
    "        print(node.nodeType)\n",
    "        if node.nodeType == node.TEXT_NODE:\n",
    "            print(\"tt\")\n",
    "            rc.append(node.data)\n",
    "            print(node.data)\n",
    "    return ''.join(rc)"
   ]
  },
  {
   "cell_type": "code",
   "execution_count": 54,
   "metadata": {},
   "outputs": [],
   "source": [
    "#len(getText(itemlist))"
   ]
  },
  {
   "cell_type": "code",
   "execution_count": 58,
   "metadata": {},
   "outputs": [],
   "source": [
    "#itemlist\n"
   ]
  },
  {
   "cell_type": "code",
   "execution_count": 59,
   "metadata": {},
   "outputs": [],
   "source": [
    "import xml.etree.ElementTree as ET\n"
   ]
  },
  {
   "cell_type": "code",
   "execution_count": 63,
   "metadata": {},
   "outputs": [],
   "source": [
    "data = ET.parse('Tickets57.xml')"
   ]
  },
  {
   "cell_type": "code",
   "execution_count": 66,
   "metadata": {},
   "outputs": [],
   "source": [
    "data = '''<foo>\n",
    "           <bar>\n",
    "               <type foobar=\"1\"/>\n",
    "               <type foobar=\"2\"/>\n",
    "          </bar>\n",
    "       </foo>'''"
   ]
  },
  {
   "cell_type": "code",
   "execution_count": 68,
   "metadata": {},
   "outputs": [
    {
     "data": {
      "text/plain": [
       "str"
      ]
     },
     "execution_count": 68,
     "metadata": {},
     "output_type": "execute_result"
    }
   ],
   "source": [
    "type(data)"
   ]
  },
  {
   "cell_type": "code",
   "execution_count": 65,
   "metadata": {},
   "outputs": [
    {
     "ename": "ParseError",
     "evalue": "syntax error: line 1, column 0 (<string>)",
     "output_type": "error",
     "traceback": [
      "Traceback \u001b[1;36m(most recent call last)\u001b[0m:\n",
      "  File \u001b[0;32m\"c:\\users\\idcpt1212\\appdata\\local\\programs\\python\\python36\\lib\\site-packages\\IPython\\core\\interactiveshell.py\"\u001b[0m, line \u001b[0;32m3267\u001b[0m, in \u001b[0;35mrun_code\u001b[0m\n    exec(code_obj, self.user_global_ns, self.user_ns)\n",
      "  File \u001b[0;32m\"<ipython-input-65-ab3f0ce94ed0>\"\u001b[0m, line \u001b[0;32m1\u001b[0m, in \u001b[0;35m<module>\u001b[0m\n    tree = ET.fromstring('Tickets57.xml')\n",
      "\u001b[1;36m  File \u001b[1;32m\"c:\\users\\idcpt1212\\appdata\\local\\programs\\python\\python36\\lib\\xml\\etree\\ElementTree.py\"\u001b[1;36m, line \u001b[1;32m1315\u001b[1;36m, in \u001b[1;35mXML\u001b[1;36m\u001b[0m\n\u001b[1;33m    return parser.close()\u001b[0m\n",
      "\u001b[1;36m  File \u001b[1;32m\"<string>\"\u001b[1;36m, line \u001b[1;32munknown\u001b[0m\n\u001b[1;31mParseError\u001b[0m\u001b[1;31m:\u001b[0m syntax error: line 1, column 0\n"
     ]
    }
   ],
   "source": [
    "tree = ET.fromstring('Tickets57.xml')"
   ]
  },
  {
   "cell_type": "code",
   "execution_count": 72,
   "metadata": {},
   "outputs": [],
   "source": [
    "import xmltodict\n"
   ]
  },
  {
   "cell_type": "code",
   "execution_count": 77,
   "metadata": {},
   "outputs": [
    {
     "ename": "UnicodeDecodeError",
     "evalue": "'charmap' codec can't decode byte 0x8d in position 390556: character maps to <undefined>",
     "output_type": "error",
     "traceback": [
      "\u001b[1;31m---------------------------------------------------------------------------\u001b[0m",
      "\u001b[1;31mUnicodeDecodeError\u001b[0m                        Traceback (most recent call last)",
      "\u001b[1;32m<ipython-input-77-debdb0546ee8>\u001b[0m in \u001b[0;36m<module>\u001b[1;34m\u001b[0m\n\u001b[0;32m      1\u001b[0m \u001b[1;32mwith\u001b[0m \u001b[0mopen\u001b[0m\u001b[1;33m(\u001b[0m\u001b[1;34m'Tickets57.xml'\u001b[0m\u001b[1;33m)\u001b[0m \u001b[1;32mas\u001b[0m \u001b[0mfd\u001b[0m\u001b[1;33m:\u001b[0m\u001b[1;33m\u001b[0m\u001b[0m\n\u001b[1;32m----> 2\u001b[1;33m     \u001b[0mdoc\u001b[0m \u001b[1;33m=\u001b[0m \u001b[0mxmltodict\u001b[0m\u001b[1;33m.\u001b[0m\u001b[0mparse\u001b[0m\u001b[1;33m(\u001b[0m\u001b[0mfd\u001b[0m\u001b[1;33m.\u001b[0m\u001b[0mread\u001b[0m\u001b[1;33m(\u001b[0m\u001b[1;33m)\u001b[0m\u001b[1;33m)\u001b[0m\u001b[1;33m\u001b[0m\u001b[0m\n\u001b[0m",
      "\u001b[1;32mc:\\users\\idcpt1212\\appdata\\local\\programs\\python\\python36\\lib\\encodings\\cp1252.py\u001b[0m in \u001b[0;36mdecode\u001b[1;34m(self, input, final)\u001b[0m\n\u001b[0;32m     21\u001b[0m \u001b[1;32mclass\u001b[0m \u001b[0mIncrementalDecoder\u001b[0m\u001b[1;33m(\u001b[0m\u001b[0mcodecs\u001b[0m\u001b[1;33m.\u001b[0m\u001b[0mIncrementalDecoder\u001b[0m\u001b[1;33m)\u001b[0m\u001b[1;33m:\u001b[0m\u001b[1;33m\u001b[0m\u001b[0m\n\u001b[0;32m     22\u001b[0m     \u001b[1;32mdef\u001b[0m \u001b[0mdecode\u001b[0m\u001b[1;33m(\u001b[0m\u001b[0mself\u001b[0m\u001b[1;33m,\u001b[0m \u001b[0minput\u001b[0m\u001b[1;33m,\u001b[0m \u001b[0mfinal\u001b[0m\u001b[1;33m=\u001b[0m\u001b[1;32mFalse\u001b[0m\u001b[1;33m)\u001b[0m\u001b[1;33m:\u001b[0m\u001b[1;33m\u001b[0m\u001b[0m\n\u001b[1;32m---> 23\u001b[1;33m         \u001b[1;32mreturn\u001b[0m \u001b[0mcodecs\u001b[0m\u001b[1;33m.\u001b[0m\u001b[0mcharmap_decode\u001b[0m\u001b[1;33m(\u001b[0m\u001b[0minput\u001b[0m\u001b[1;33m,\u001b[0m\u001b[0mself\u001b[0m\u001b[1;33m.\u001b[0m\u001b[0merrors\u001b[0m\u001b[1;33m,\u001b[0m\u001b[0mdecoding_table\u001b[0m\u001b[1;33m)\u001b[0m\u001b[1;33m[\u001b[0m\u001b[1;36m0\u001b[0m\u001b[1;33m]\u001b[0m\u001b[1;33m\u001b[0m\u001b[0m\n\u001b[0m\u001b[0;32m     24\u001b[0m \u001b[1;33m\u001b[0m\u001b[0m\n\u001b[0;32m     25\u001b[0m \u001b[1;32mclass\u001b[0m \u001b[0mStreamWriter\u001b[0m\u001b[1;33m(\u001b[0m\u001b[0mCodec\u001b[0m\u001b[1;33m,\u001b[0m\u001b[0mcodecs\u001b[0m\u001b[1;33m.\u001b[0m\u001b[0mStreamWriter\u001b[0m\u001b[1;33m)\u001b[0m\u001b[1;33m:\u001b[0m\u001b[1;33m\u001b[0m\u001b[0m\n",
      "\u001b[1;31mUnicodeDecodeError\u001b[0m: 'charmap' codec can't decode byte 0x8d in position 390556: character maps to <undefined>"
     ]
    }
   ],
   "source": [
    "with open('Tickets57.xml') as fd:\n",
    "    doc = xmltodict.parse(fd.read())"
   ]
  },
  {
   "cell_type": "code",
   "execution_count": 73,
   "metadata": {},
   "outputs": [
    {
     "ename": "ExpatError",
     "evalue": "syntax error: line 1, column 0",
     "output_type": "error",
     "traceback": [
      "\u001b[1;31m---------------------------------------------------------------------------\u001b[0m",
      "\u001b[1;31mExpatError\u001b[0m                                Traceback (most recent call last)",
      "\u001b[1;32m<ipython-input-73-763582bf25e6>\u001b[0m in \u001b[0;36m<module>\u001b[1;34m\u001b[0m\n\u001b[1;32m----> 1\u001b[1;33m \u001b[0mresult\u001b[0m \u001b[1;33m=\u001b[0m \u001b[0mxmltodict\u001b[0m\u001b[1;33m.\u001b[0m\u001b[0mparse\u001b[0m\u001b[1;33m(\u001b[0m\u001b[1;34m'Tickets57.xml'\u001b[0m\u001b[1;33m)\u001b[0m\u001b[1;33m\u001b[0m\u001b[0m\n\u001b[0m",
      "\u001b[1;32mc:\\users\\idcpt1212\\appdata\\local\\programs\\python\\python36\\lib\\site-packages\\xmltodict.py\u001b[0m in \u001b[0;36mparse\u001b[1;34m(xml_input, encoding, expat, process_namespaces, namespace_separator, disable_entities, **kwargs)\u001b[0m\n\u001b[0;32m    325\u001b[0m         \u001b[0mparser\u001b[0m\u001b[1;33m.\u001b[0m\u001b[0mParseFile\u001b[0m\u001b[1;33m(\u001b[0m\u001b[0mxml_input\u001b[0m\u001b[1;33m)\u001b[0m\u001b[1;33m\u001b[0m\u001b[0m\n\u001b[0;32m    326\u001b[0m     \u001b[1;32melse\u001b[0m\u001b[1;33m:\u001b[0m\u001b[1;33m\u001b[0m\u001b[0m\n\u001b[1;32m--> 327\u001b[1;33m         \u001b[0mparser\u001b[0m\u001b[1;33m.\u001b[0m\u001b[0mParse\u001b[0m\u001b[1;33m(\u001b[0m\u001b[0mxml_input\u001b[0m\u001b[1;33m,\u001b[0m \u001b[1;32mTrue\u001b[0m\u001b[1;33m)\u001b[0m\u001b[1;33m\u001b[0m\u001b[0m\n\u001b[0m\u001b[0;32m    328\u001b[0m     \u001b[1;32mreturn\u001b[0m \u001b[0mhandler\u001b[0m\u001b[1;33m.\u001b[0m\u001b[0mitem\u001b[0m\u001b[1;33m\u001b[0m\u001b[0m\n\u001b[0;32m    329\u001b[0m \u001b[1;33m\u001b[0m\u001b[0m\n",
      "\u001b[1;31mExpatError\u001b[0m: syntax error: line 1, column 0"
     ]
    }
   ],
   "source": [
    "result = xmltodict.parse('Tickets57.xml')"
   ]
  },
  {
   "cell_type": "code",
   "execution_count": 74,
   "metadata": {},
   "outputs": [],
   "source": [
    "from lxml import objectify\n",
    "from collections import defaultdict\n"
   ]
  },
  {
   "cell_type": "code",
   "execution_count": 75,
   "metadata": {},
   "outputs": [],
   "source": [
    "count = defaultdict(int)\n"
   ]
  },
  {
   "cell_type": "code",
   "execution_count": 85,
   "metadata": {},
   "outputs": [],
   "source": [
    "from lxml import etree"
   ]
  },
  {
   "cell_type": "code",
   "execution_count": 86,
   "metadata": {},
   "outputs": [],
   "source": [
    "from lxml import objectify"
   ]
  },
  {
   "cell_type": "code",
   "execution_count": 1,
   "metadata": {},
   "outputs": [],
   "source": [
    "#import lxml.usedoctest\n",
    "from bs4 import BeautifulSoup\n",
    "#soup = BeautifulSoup(html_doc, 'html.parser')"
   ]
  },
  {
   "cell_type": "code",
   "execution_count": 3,
   "metadata": {},
   "outputs": [],
   "source": [
    "file=open(\"Tickets57.xml\", encoding=\"utf-8\")"
   ]
  },
  {
   "cell_type": "code",
   "execution_count": 4,
   "metadata": {},
   "outputs": [],
   "source": [
    "sp=BeautifulSoup(file, \"xml\")"
   ]
  },
  {
   "cell_type": "code",
   "execution_count": 5,
   "metadata": {},
   "outputs": [],
   "source": [
    "titles = sp.find_all('body')"
   ]
  },
  {
   "cell_type": "code",
   "execution_count": 7,
   "metadata": {},
   "outputs": [],
   "source": [
    "l1=[]"
   ]
  },
  {
   "cell_type": "code",
   "execution_count": 8,
   "metadata": {},
   "outputs": [],
   "source": [
    "\n",
    "for title in titles:\n",
    "    l1.append(title.get_text())\n",
    "    \n",
    "    #print(title.get_text())"
   ]
  },
  {
   "cell_type": "code",
   "execution_count": 36,
   "metadata": {},
   "outputs": [],
   "source": [
    "l2=[(el.strip()) for el in l1]"
   ]
  },
  {
   "cell_type": "code",
   "execution_count": 37,
   "metadata": {},
   "outputs": [
    {
     "data": {
      "text/plain": [
       "1633"
      ]
     },
     "execution_count": 37,
     "metadata": {},
     "output_type": "execute_result"
    }
   ],
   "source": [
    "len(l2)"
   ]
  },
  {
   "cell_type": "code",
   "execution_count": 52,
   "metadata": {},
   "outputs": [
    {
     "data": {
      "text/plain": [
       "\"Hello Josh,     Thank you for this!     I have what we need to move this forward, I'll work internally then follow up as soon as I have more information.     If you have any questions in the meantime, please let me know.                 Best regards,     Paul       Paul Wilhelm  Customer Success Manager  EvaluationKIT     Need a refresher on usingEvaluationKIT? Have new EK Admins in need of training? Sign up forone of our two-hour group sessionsHEREtoday!    Email: support@evaluationkit.com  TollFree: 888.980.9449 ext 2  Please consider theenvironment before printing this email  This email and any attachments may contain confidential and proprietary information of EvaluationKIT that is for the sole use of the intended recipient.  If you are not the intended recipient, please accept our apologies for the error and note that you are hereby notified that any use, review, dissemination, distribution or copying of this document is strictly prohibited.  If you received this document in error, please notify us by return email and destroy the original message.\""
      ]
     },
     "execution_count": 52,
     "metadata": {},
     "output_type": "execute_result"
    }
   ],
   "source": [
    "l3[29]"
   ]
  },
  {
   "cell_type": "code",
   "execution_count": 41,
   "metadata": {},
   "outputs": [],
   "source": [
    "l3=l2"
   ]
  },
  {
   "cell_type": "code",
   "execution_count": 47,
   "metadata": {},
   "outputs": [],
   "source": [
    "for i in range(len(l2)):\n",
    "    l3[i]=l3[i].replace('\\xa0','')\n",
    "#print(new_list)"
   ]
  },
  {
   "cell_type": "code",
   "execution_count": 49,
   "metadata": {},
   "outputs": [],
   "source": [
    "for i in range(len(l2)):\n",
    "    l3[i]=l3[i].replace('_______________________________','')"
   ]
  },
  {
   "cell_type": "code",
   "execution_count": null,
   "metadata": {},
   "outputs": [],
   "source": [
    "for i in range(len(l2)):\n",
    "    l3[i]=l3[i].replace('\\n','')"
   ]
  },
  {
   "cell_type": "code",
   "execution_count": 51,
   "metadata": {},
   "outputs": [],
   "source": [
    "for i in range(len(l2)):\n",
    "    l3[i]=l3[i].replace('---------','')"
   ]
  },
  {
   "cell_type": "code",
   "execution_count": 13,
   "metadata": {},
   "outputs": [],
   "source": [
    "type(l1)\n",
    "import pandas as pd"
   ]
  },
  {
   "cell_type": "code",
   "execution_count": 54,
   "metadata": {},
   "outputs": [],
   "source": [
    "df = pd.DataFrame(l3).add_prefix('BODY')\n"
   ]
  },
  {
   "cell_type": "code",
   "execution_count": 56,
   "metadata": {},
   "outputs": [],
   "source": [
    "df.to_csv('output2.csv', index=False)"
   ]
  },
  {
   "cell_type": "code",
   "execution_count": 55,
   "metadata": {},
   "outputs": [
    {
     "name": "stdout",
     "output_type": "stream",
     "text": [
      "                                                  BODY0\n",
      "0     Spoke with Kris. Got it clarified. All set.Tha...\n",
      "1     Hi Rajeev,     It was nice speaking with you t...\n",
      "2     Hello John,     Thanks for reaching out today,...\n",
      "3     Canvas made a recent change, which caused our ...\n",
      "4     Hello John,    I just called and left you a vo...\n",
      "5     Thanks Paul, We have a tendency to blame Canva...\n",
      "6     Hi John,     Your short term solution is corre...\n",
      "7     Hi Paul, not sure if this is what you're looki...\n",
      "8     Talked with John over the phone and walked him...\n",
      "9     Hello John,     Thank you again for taking my ...\n",
      "10    Thanks Paul, I’ll be out of the office until M...\n",
      "11    Project 'Online Project Ending 8_26_2018' had ...\n",
      "12    Hello John,     I wanted to circle back on thi...\n",
      "13    Hi Paul, Yes, our Canvas admin made the change...\n",
      "14    I called John directly and talked about this o...\n",
      "15    Hi Alec,     I called and left you a message.I...\n",
      "16    I am so sorry, responses were sitting in my ju...\n",
      "17    Hi Caroline,     I completely understand. I wa...\n",
      "18    Thanks Kris, I managed to generate a new token...\n",
      "19    Hi Caroline,     Thanks for the update. I am s...\n",
      "20    Happy 4th ☺Caroline HayesDirector of Central A...\n",
      "21    Hello Tawnya,     I wanted to let you know tha...\n",
      "22    Hello Tawnya,     This student was able to sub...\n",
      "23    This is what I was thinking as well. I have as...\n",
      "24                                                    _\n",
      "25    Hello Tawnya.     Thanks for this!     This me...\n",
      "26                                          Ok thanks!_\n",
      "27    Hello Josh,     Thanks for reaching out!     I...\n",
      "28    No problem. Take your time.Here is what Sarah ...\n",
      "29    Hello Josh,     Thank you for this!     I have...\n",
      "...                                                 ...\n",
      "1603  Hi Ron,     The survey link, table of survey, ...\n",
      "1604  created_by: 6000803783time: 2018-07-19 08:23:4...\n",
      "1605  Hello Bill,     Good to hear from you!     I'l...\n",
      "1606  Thanks for checking in on the customization re...\n",
      "1607      Customization request: 32985 Open a/o 7/20/18\n",
      "1608  Greetings:Checking in on the customization req...\n",
      "1609  Hello Bill,     Good to hear from you!     I'm...\n",
      "1610                     Okay.  Enjoy the long weekend!\n",
      "1611  Hello Donna and Bill,     I hope you both had ...\n",
      "1612  Bill:Alex, I’ll take “Customizations” for $1,0...\n",
      "1613  Hi Paul,Regarding my new project, thank you fo...\n",
      "1614  32985 -Customization request. Discussed with E...\n",
      "1615  Greetings:Checking in to see if we can have th...\n",
      "1616  Hello Bill,     Good to hear from you and than...\n",
      "1617  32985 - Followed up with El regarding the late...\n",
      "1618  Greetings:Checking in to see about the customi...\n",
      "1619  Hello Bill,     I hope you had a restful weeke...\n",
      "1620                    The 17th at 3pm works.  Thanks!\n",
      "1621  Thank you Bill,     Look for my meeting invite...\n",
      "1622  Marked as Pending until I can add notes after ...\n",
      "1623  Hello Donna and Bill,     Thank you both again...\n",
      "1624  Hello Donna and Bill,     I wanted to provide ...\n",
      "1625                             Thanks for the update.\n",
      "1626  Per Elizabeth Horton on 11/13/18 - she has dis...\n",
      "1627  Hi Thomas,     Thank you for your email. These...\n",
      "1628  Hello,So to be clear, a student using the Canv...\n",
      "1629  Thomas,     Any chance we could schedule a cal...\n",
      "1630  Hi Giovanna,I should be back in the office by ...\n",
      "1631  I'm available...please use the GTM link below:...\n",
      "1632  Hey Melinda,     Thanks for the heads-up. That...\n",
      "\n",
      "[1633 rows x 1 columns]\n"
     ]
    }
   ],
   "source": [
    "print(df)"
   ]
  },
  {
   "cell_type": "code",
   "execution_count": null,
   "metadata": {},
   "outputs": [],
   "source": []
  }
 ],
 "metadata": {
  "hide_input": false,
  "kernelspec": {
   "display_name": "Python 3",
   "language": "python",
   "name": "python3"
  },
  "language_info": {
   "codemirror_mode": {
    "name": "ipython",
    "version": 3
   },
   "file_extension": ".py",
   "mimetype": "text/x-python",
   "name": "python",
   "nbconvert_exporter": "python",
   "pygments_lexer": "ipython3",
   "version": "3.6.5"
  }
 },
 "nbformat": 4,
 "nbformat_minor": 2
}
