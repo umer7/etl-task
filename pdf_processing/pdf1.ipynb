{
 "cells": [
  {
   "cell_type": "code",
   "execution_count": 1,
   "metadata": {},
   "outputs": [],
   "source": [
    "import PyPDF2 "
   ]
  },
  {
   "cell_type": "code",
   "execution_count": 4,
   "metadata": {},
   "outputs": [],
   "source": [
    "def PDFsplit(pdf, splits): \n",
    "    # creating input pdf file object \n",
    "    pdfFileObj = open(pdf, 'rb') \n",
    "      \n",
    "    # creating pdf reader object \n",
    "    pdfReader = PyPDF2.PdfFileReader(pdfFileObj) \n",
    "      \n",
    "    # starting index of first slice \n",
    "    start = 0\n",
    "      \n",
    "    # starting index of last slice \n",
    "    end = splits[0] \n",
    "      \n",
    "      \n",
    "    for i in range(len(splits)+1): \n",
    "        # creating pdf writer object for (i+1)th split \n",
    "        pdfWriter = PyPDF2.PdfFileWriter() \n",
    "          \n",
    "        # output pdf file name \n",
    "        outputpdf = pdf.split('.pdf')[0] + str(i) + '.pdf'\n",
    "          \n",
    "        # adding pages to pdf writer object \n",
    "        for page in range(start,end): \n",
    "            pdfWriter.addPage(pdfReader.getPage(page)) \n",
    "          \n",
    "        # writing split pdf pages to pdf file \n",
    "        with open(outputpdf, \"wb\") as f: \n",
    "            pdfWriter.write(f) \n",
    "  \n",
    "        # interchanging page split start position for next split \n",
    "        start = end \n",
    "        try: \n",
    "            # setting split end positon for next split \n",
    "            end = splits[i+1] \n",
    "        except IndexError: \n",
    "            # setting split end position for last split \n",
    "            end = pdfReader.numPages \n",
    "          \n",
    "    # closing the input pdf file object \n",
    "    pdfFileObj.close() \n",
    "              \n",
    "def main(): \n",
    "    # pdf file to split \n",
    "    pdf = 'saql.pdf'\n",
    "      \n",
    "    # split page positions \n",
    "    splits = [2,4] \n",
    "      \n",
    "    # calling PDFsplit function to split pdf \n",
    "    PDFsplit(pdf, splits) \n",
    "  \n"
   ]
  },
  {
   "cell_type": "code",
   "execution_count": 5,
   "metadata": {},
   "outputs": [],
   "source": [
    "if __name__ == \"__main__\": \n",
    "    # calling the main function \n",
    "    main() "
   ]
  },
  {
   "cell_type": "code",
   "execution_count": null,
   "metadata": {},
   "outputs": [],
   "source": []
  }
 ],
 "metadata": {
  "kernelspec": {
   "display_name": "Python 3",
   "language": "python",
   "name": "python3"
  },
  "language_info": {
   "codemirror_mode": {
    "name": "ipython",
    "version": 3
   },
   "file_extension": ".py",
   "mimetype": "text/x-python",
   "name": "python",
   "nbconvert_exporter": "python",
   "pygments_lexer": "ipython3",
   "version": "3.6.5"
  }
 },
 "nbformat": 4,
 "nbformat_minor": 2
}
