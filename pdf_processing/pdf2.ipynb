{
 "cells": [
  {
   "cell_type": "code",
   "execution_count": 9,
   "metadata": {},
   "outputs": [],
   "source": [
    "import PyPDF2 \n",
    "pdf = 'saql.pdf'\n",
    "pdfFileObj = open('saql.pdf', 'rb') \n",
    "pdfReader = PyPDF2.PdfFileReader(pdfFileObj)  \n",
    "start = 1\n",
    "end = 2\n",
    "pdfWriter = PyPDF2.PdfFileWriter()           \n",
    "        # output pdf file name \n",
    "outputpdf = 'my3.pdf'\n",
    "          \n",
    "        # adding pages to pdf writer object \n",
    "for page in range(start,end): \n",
    "    pdfWriter.addPage(pdfReader.getPage(page))  \n",
    "           # writing split pdf pages to pdf file \n",
    "with open(outputpdf, \"wb\") as f: \n",
    "     pdfWriter.write(f) \n",
    "  \n",
    "        # interchanging page split start position for next split \n",
    "start = end \n",
    "try:    \n",
    "            # setting split end positon for next split \n",
    "    end = splits \n",
    "except IndexError: \n",
    "            # setting split end position for last split \n",
    "    end = pdfReader.numPages "
   ]
  },
  {
   "cell_type": "raw",
   "metadata": {},
   "source": []
  },
  {
   "cell_type": "code",
   "execution_count": null,
   "metadata": {},
   "outputs": [],
   "source": []
  }
 ],
 "metadata": {
  "hide_input": false,
  "kernelspec": {
   "display_name": "Python 3",
   "language": "python",
   "name": "python3"
  },
  "language_info": {
   "codemirror_mode": {
    "name": "ipython",
    "version": 3
   },
   "file_extension": ".py",
   "mimetype": "text/x-python",
   "name": "python",
   "nbconvert_exporter": "python",
   "pygments_lexer": "ipython3",
   "version": "3.6.5"
  }
 },
 "nbformat": 4,
 "nbformat_minor": 2
}
