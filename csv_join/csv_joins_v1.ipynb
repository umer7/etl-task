{
 "cells": [
  {
   "cell_type": "code",
   "execution_count": 1,
   "metadata": {},
   "outputs": [],
   "source": [
    "##"
   ]
  },
  {
   "cell_type": "code",
   "execution_count": 1,
   "metadata": {},
   "outputs": [],
   "source": [
    "import pandas as pd"
   ]
  },
  {
   "cell_type": "code",
   "execution_count": 2,
   "metadata": {},
   "outputs": [],
   "source": [
    "large1 = pd.read_csv(\"large_file.csv\") "
   ]
  },
  {
   "cell_type": "code",
   "execution_count": 3,
   "metadata": {},
   "outputs": [
    {
     "data": {
      "text/html": [
       "<div>\n",
       "<style scoped>\n",
       "    .dataframe tbody tr th:only-of-type {\n",
       "        vertical-align: middle;\n",
       "    }\n",
       "\n",
       "    .dataframe tbody tr th {\n",
       "        vertical-align: top;\n",
       "    }\n",
       "\n",
       "    .dataframe thead th {\n",
       "        text-align: right;\n",
       "    }\n",
       "</style>\n",
       "<table border=\"1\" class=\"dataframe\">\n",
       "  <thead>\n",
       "    <tr style=\"text-align: right;\">\n",
       "      <th></th>\n",
       "      <th>ID</th>\n",
       "      <th>EMAIL</th>\n",
       "    </tr>\n",
       "  </thead>\n",
       "  <tbody>\n",
       "    <tr>\n",
       "      <th>0</th>\n",
       "      <td>003f400000wn7G8AAI</td>\n",
       "      <td>cinpat@optonline.net</td>\n",
       "    </tr>\n",
       "    <tr>\n",
       "      <th>1</th>\n",
       "      <td>003f400000wn67kAAA</td>\n",
       "      <td>rachael.m.soun@gmail.com</td>\n",
       "    </tr>\n",
       "    <tr>\n",
       "      <th>2</th>\n",
       "      <td>003f400000wn9GbAAI</td>\n",
       "      <td>scottsweet16@gmail.com</td>\n",
       "    </tr>\n",
       "    <tr>\n",
       "      <th>3</th>\n",
       "      <td>003f400000wn9GcAAI</td>\n",
       "      <td>petejr6881@yahoo.com</td>\n",
       "    </tr>\n",
       "    <tr>\n",
       "      <th>4</th>\n",
       "      <td>003f400000wn9GdAAI</td>\n",
       "      <td>bugman181@aol.com</td>\n",
       "    </tr>\n",
       "  </tbody>\n",
       "</table>\n",
       "</div>"
      ],
      "text/plain": [
       "                   ID                     EMAIL\n",
       "0  003f400000wn7G8AAI      cinpat@optonline.net\n",
       "1  003f400000wn67kAAA  rachael.m.soun@gmail.com\n",
       "2  003f400000wn9GbAAI    scottsweet16@gmail.com\n",
       "3  003f400000wn9GcAAI      petejr6881@yahoo.com\n",
       "4  003f400000wn9GdAAI         bugman181@aol.com"
      ]
     },
     "execution_count": 3,
     "metadata": {},
     "output_type": "execute_result"
    }
   ],
   "source": [
    "large1.head()"
   ]
  },
  {
   "cell_type": "code",
   "execution_count": 4,
   "metadata": {},
   "outputs": [
    {
     "data": {
      "text/plain": [
       "1407338"
      ]
     },
     "execution_count": 4,
     "metadata": {},
     "output_type": "execute_result"
    }
   ],
   "source": [
    "len(large1)"
   ]
  },
  {
   "cell_type": "code",
   "execution_count": 5,
   "metadata": {},
   "outputs": [],
   "source": [
    "small2 = pd.read_csv(\"small_file2.csv\") "
   ]
  },
  {
   "cell_type": "code",
   "execution_count": 7,
   "metadata": {},
   "outputs": [
    {
     "data": {
      "text/html": [
       "<div>\n",
       "<style scoped>\n",
       "    .dataframe tbody tr th:only-of-type {\n",
       "        vertical-align: middle;\n",
       "    }\n",
       "\n",
       "    .dataframe tbody tr th {\n",
       "        vertical-align: top;\n",
       "    }\n",
       "\n",
       "    .dataframe thead th {\n",
       "        text-align: right;\n",
       "    }\n",
       "</style>\n",
       "<table border=\"1\" class=\"dataframe\">\n",
       "  <thead>\n",
       "    <tr style=\"text-align: right;\">\n",
       "      <th></th>\n",
       "      <th>EMAIL</th>\n",
       "      <th>subscriber key</th>\n",
       "      <th>status_name</th>\n",
       "      <th>last_modified_at</th>\n",
       "      <th>last_name</th>\n",
       "      <th>first_name</th>\n",
       "      <th>group-name</th>\n",
       "      <th>id</th>\n",
       "      <th>other_id</th>\n",
       "    </tr>\n",
       "  </thead>\n",
       "  <tbody>\n",
       "    <tr>\n",
       "      <th>0</th>\n",
       "      <td>1001lily6@gmail.com</td>\n",
       "      <td>1001lily6@gmail.com</td>\n",
       "      <td>active</td>\n",
       "      <td>NaN</td>\n",
       "      <td>Rhoads</td>\n",
       "      <td>Lynette</td>\n",
       "      <td>NaN</td>\n",
       "      <td>1</td>\n",
       "      <td>NaN</td>\n",
       "    </tr>\n",
       "    <tr>\n",
       "      <th>1</th>\n",
       "      <td>10toppazzini@gmail.com</td>\n",
       "      <td>10toppazzini@gmail.com</td>\n",
       "      <td>active</td>\n",
       "      <td>2015-04-20T13:53:23 CDT</td>\n",
       "      <td>NaN</td>\n",
       "      <td>NaN</td>\n",
       "      <td>NaN</td>\n",
       "      <td>2</td>\n",
       "      <td>NaN</td>\n",
       "    </tr>\n",
       "    <tr>\n",
       "      <th>2</th>\n",
       "      <td>11795331@qq.com</td>\n",
       "      <td>11795331@qq.com</td>\n",
       "      <td>active</td>\n",
       "      <td>2015-04-21T09:09:57 CDT</td>\n",
       "      <td>NaN</td>\n",
       "      <td>NaN</td>\n",
       "      <td>NaN</td>\n",
       "      <td>3</td>\n",
       "      <td>NaN</td>\n",
       "    </tr>\n",
       "    <tr>\n",
       "      <th>3</th>\n",
       "      <td>1261hrmgr@hy-vee.com</td>\n",
       "      <td>1261hrmgr@hy-vee.com</td>\n",
       "      <td>active</td>\n",
       "      <td>2015-04-20T13:53:23 CDT</td>\n",
       "      <td>NaN</td>\n",
       "      <td>NaN</td>\n",
       "      <td>NaN</td>\n",
       "      <td>4</td>\n",
       "      <td>NaN</td>\n",
       "    </tr>\n",
       "    <tr>\n",
       "      <th>4</th>\n",
       "      <td>12trippj@gmail.com</td>\n",
       "      <td>12trippj@gmail.com</td>\n",
       "      <td>active</td>\n",
       "      <td>2015-04-20T13:53:23 CDT</td>\n",
       "      <td>NaN</td>\n",
       "      <td>NaN</td>\n",
       "      <td>NaN</td>\n",
       "      <td>5</td>\n",
       "      <td>NaN</td>\n",
       "    </tr>\n",
       "  </tbody>\n",
       "</table>\n",
       "</div>"
      ],
      "text/plain": [
       "                    EMAIL          subscriber key status_name  \\\n",
       "0     1001lily6@gmail.com     1001lily6@gmail.com      active   \n",
       "1  10toppazzini@gmail.com  10toppazzini@gmail.com      active   \n",
       "2         11795331@qq.com         11795331@qq.com      active   \n",
       "3    1261hrmgr@hy-vee.com    1261hrmgr@hy-vee.com      active   \n",
       "4      12trippj@gmail.com      12trippj@gmail.com      active   \n",
       "\n",
       "          last_modified_at last_name first_name group-name  id  other_id  \n",
       "0                      NaN    Rhoads    Lynette        NaN   1       NaN  \n",
       "1  2015-04-20T13:53:23 CDT       NaN        NaN        NaN   2       NaN  \n",
       "2  2015-04-21T09:09:57 CDT       NaN        NaN        NaN   3       NaN  \n",
       "3  2015-04-20T13:53:23 CDT       NaN        NaN        NaN   4       NaN  \n",
       "4  2015-04-20T13:53:23 CDT       NaN        NaN        NaN   5       NaN  "
      ]
     },
     "execution_count": 7,
     "metadata": {},
     "output_type": "execute_result"
    }
   ],
   "source": [
    "small2.head()"
   ]
  },
  {
   "cell_type": "code",
   "execution_count": 6,
   "metadata": {},
   "outputs": [],
   "source": [
    "#pd.merge(small2, large1, on='EMAIL', how='inner')"
   ]
  },
  {
   "cell_type": "code",
   "execution_count": 8,
   "metadata": {},
   "outputs": [
    {
     "data": {
      "text/plain": [
       "10949"
      ]
     },
     "execution_count": 8,
     "metadata": {},
     "output_type": "execute_result"
    }
   ],
   "source": [
    "len(small2)"
   ]
  },
  {
   "cell_type": "code",
   "execution_count": 15,
   "metadata": {},
   "outputs": [],
   "source": [
    "data1=pd.merge(small2, large1, on='EMAIL', how='inner',indicator=True)\n",
    "\n",
    "df1.merge(df2, on=['key'], how='left', indicator=True)"
   ]
  },
  {
   "cell_type": "code",
   "execution_count": 9,
   "metadata": {},
   "outputs": [],
   "source": [
    "data3=small2.merge(large1, on=['EMAIL'], how='left', indicator=True)"
   ]
  },
  {
   "cell_type": "code",
   "execution_count": 10,
   "metadata": {},
   "outputs": [
    {
     "data": {
      "text/plain": [
       "11317"
      ]
     },
     "execution_count": 10,
     "metadata": {},
     "output_type": "execute_result"
    }
   ],
   "source": [
    "len(data3)"
   ]
  },
  {
   "cell_type": "code",
   "execution_count": 20,
   "metadata": {},
   "outputs": [
    {
     "data": {
      "text/plain": [
       "11308"
      ]
     },
     "execution_count": 20,
     "metadata": {},
     "output_type": "execute_result"
    }
   ],
   "source": [
    "len(data1)"
   ]
  },
  {
   "cell_type": "code",
   "execution_count": 21,
   "metadata": {},
   "outputs": [],
   "source": [
    "data1.to_csv('output2.csv', encoding='utf-8', index=False)"
   ]
  },
  {
   "cell_type": "code",
   "execution_count": 24,
   "metadata": {},
   "outputs": [],
   "source": [
    "#data3"
   ]
  },
  {
   "cell_type": "code",
   "execution_count": 23,
   "metadata": {},
   "outputs": [
    {
     "data": {
      "text/html": [
       "<div>\n",
       "<style scoped>\n",
       "    .dataframe tbody tr th:only-of-type {\n",
       "        vertical-align: middle;\n",
       "    }\n",
       "\n",
       "    .dataframe tbody tr th {\n",
       "        vertical-align: top;\n",
       "    }\n",
       "\n",
       "    .dataframe thead th {\n",
       "        text-align: right;\n",
       "    }\n",
       "</style>\n",
       "<table border=\"1\" class=\"dataframe\">\n",
       "  <thead>\n",
       "    <tr style=\"text-align: right;\">\n",
       "      <th></th>\n",
       "      <th>EMAIL</th>\n",
       "      <th>subscriber key</th>\n",
       "      <th>status_name</th>\n",
       "      <th>last_modified_at</th>\n",
       "      <th>last_name</th>\n",
       "      <th>first_name</th>\n",
       "      <th>group-name</th>\n",
       "      <th>id</th>\n",
       "      <th>other_id</th>\n",
       "      <th>ID</th>\n",
       "      <th>_merge</th>\n",
       "    </tr>\n",
       "  </thead>\n",
       "  <tbody>\n",
       "    <tr>\n",
       "      <th>930</th>\n",
       "      <td>batman_rocks028@yahoo.com</td>\n",
       "      <td>batman_rocks028@yahoo.com</td>\n",
       "      <td>active</td>\n",
       "      <td>2017-12-24T13:11:42 CST</td>\n",
       "      <td>Quinn</td>\n",
       "      <td>Lindsey</td>\n",
       "      <td>NaN</td>\n",
       "      <td>905</td>\n",
       "      <td>NaN</td>\n",
       "      <td>NaN</td>\n",
       "      <td>left_only</td>\n",
       "    </tr>\n",
       "    <tr>\n",
       "      <th>1505</th>\n",
       "      <td>burneyskyla@yahoo.com</td>\n",
       "      <td>burneyskyla@yahoo.com</td>\n",
       "      <td>active</td>\n",
       "      <td>2018-07-21T14:31:38 CDT</td>\n",
       "      <td>Burney</td>\n",
       "      <td>Skyla</td>\n",
       "      <td>NaN</td>\n",
       "      <td>1458</td>\n",
       "      <td>NaN</td>\n",
       "      <td>NaN</td>\n",
       "      <td>left_only</td>\n",
       "    </tr>\n",
       "    <tr>\n",
       "      <th>3430</th>\n",
       "      <td>estoli9@gmail.com</td>\n",
       "      <td>estoli9@gmail.com</td>\n",
       "      <td>active</td>\n",
       "      <td>2015-04-20T13:53:23 CDT</td>\n",
       "      <td>NaN</td>\n",
       "      <td>NaN</td>\n",
       "      <td>NaN</td>\n",
       "      <td>3312</td>\n",
       "      <td>NaN</td>\n",
       "      <td>NaN</td>\n",
       "      <td>left_only</td>\n",
       "    </tr>\n",
       "    <tr>\n",
       "      <th>5406</th>\n",
       "      <td>juris.simanis@citizensmemorial.com</td>\n",
       "      <td>juris.simanis@citizensmemorial.com</td>\n",
       "      <td>active</td>\n",
       "      <td>2015-04-21T09:09:57 CDT</td>\n",
       "      <td>NaN</td>\n",
       "      <td>Juris</td>\n",
       "      <td>NaN</td>\n",
       "      <td>5234</td>\n",
       "      <td>NaN</td>\n",
       "      <td>NaN</td>\n",
       "      <td>left_only</td>\n",
       "    </tr>\n",
       "    <tr>\n",
       "      <th>6411</th>\n",
       "      <td>legarce@hotmail.com</td>\n",
       "      <td>legarce@hotmail.com</td>\n",
       "      <td>active</td>\n",
       "      <td>2015-04-20T13:53:23 CDT</td>\n",
       "      <td>NaN</td>\n",
       "      <td>NaN</td>\n",
       "      <td>NaN</td>\n",
       "      <td>6211</td>\n",
       "      <td>NaN</td>\n",
       "      <td>NaN</td>\n",
       "      <td>left_only</td>\n",
       "    </tr>\n",
       "    <tr>\n",
       "      <th>6737</th>\n",
       "      <td>lungar23@yahoo.com</td>\n",
       "      <td>lungar23@yahoo.com</td>\n",
       "      <td>active</td>\n",
       "      <td>2015-04-20T13:53:23 CDT</td>\n",
       "      <td>NaN</td>\n",
       "      <td>NaN</td>\n",
       "      <td>NaN</td>\n",
       "      <td>6523</td>\n",
       "      <td>NaN</td>\n",
       "      <td>NaN</td>\n",
       "      <td>left_only</td>\n",
       "    </tr>\n",
       "    <tr>\n",
       "      <th>9067</th>\n",
       "      <td>rvoboril@hotmail.com</td>\n",
       "      <td>rvoboril@hotmail.com</td>\n",
       "      <td>active</td>\n",
       "      <td>2018-03-10T05:25:37 CST</td>\n",
       "      <td>Voboril</td>\n",
       "      <td>Reggie</td>\n",
       "      <td>NaN</td>\n",
       "      <td>8777</td>\n",
       "      <td>NaN</td>\n",
       "      <td>NaN</td>\n",
       "      <td>left_only</td>\n",
       "    </tr>\n",
       "    <tr>\n",
       "      <th>9078</th>\n",
       "      <td>rwwilson147@swbell.net</td>\n",
       "      <td>rwwilson147@swbell.net</td>\n",
       "      <td>active</td>\n",
       "      <td>2015-04-20T13:53:23 CDT</td>\n",
       "      <td>NaN</td>\n",
       "      <td>NaN</td>\n",
       "      <td>NaN</td>\n",
       "      <td>8788</td>\n",
       "      <td>NaN</td>\n",
       "      <td>NaN</td>\n",
       "      <td>left_only</td>\n",
       "    </tr>\n",
       "    <tr>\n",
       "      <th>10734</th>\n",
       "      <td>trevor33matt@gmail.com</td>\n",
       "      <td>trevor33matt@gmail.com</td>\n",
       "      <td>active</td>\n",
       "      <td>2017-12-16T15:39:51 CST</td>\n",
       "      <td>Matt</td>\n",
       "      <td>Trevor</td>\n",
       "      <td>NaN</td>\n",
       "      <td>10388</td>\n",
       "      <td>NaN</td>\n",
       "      <td>NaN</td>\n",
       "      <td>left_only</td>\n",
       "    </tr>\n",
       "  </tbody>\n",
       "</table>\n",
       "</div>"
      ],
      "text/plain": [
       "                                    EMAIL                      subscriber key  \\\n",
       "930             batman_rocks028@yahoo.com           batman_rocks028@yahoo.com   \n",
       "1505                burneyskyla@yahoo.com               burneyskyla@yahoo.com   \n",
       "3430                    estoli9@gmail.com                   estoli9@gmail.com   \n",
       "5406   juris.simanis@citizensmemorial.com  juris.simanis@citizensmemorial.com   \n",
       "6411                  legarce@hotmail.com                 legarce@hotmail.com   \n",
       "6737                   lungar23@yahoo.com                  lungar23@yahoo.com   \n",
       "9067                 rvoboril@hotmail.com                rvoboril@hotmail.com   \n",
       "9078               rwwilson147@swbell.net              rwwilson147@swbell.net   \n",
       "10734              trevor33matt@gmail.com              trevor33matt@gmail.com   \n",
       "\n",
       "      status_name         last_modified_at last_name first_name group-name  \\\n",
       "930        active  2017-12-24T13:11:42 CST     Quinn    Lindsey        NaN   \n",
       "1505       active  2018-07-21T14:31:38 CDT    Burney      Skyla        NaN   \n",
       "3430       active  2015-04-20T13:53:23 CDT       NaN        NaN        NaN   \n",
       "5406       active  2015-04-21T09:09:57 CDT       NaN      Juris        NaN   \n",
       "6411       active  2015-04-20T13:53:23 CDT       NaN        NaN        NaN   \n",
       "6737       active  2015-04-20T13:53:23 CDT       NaN        NaN        NaN   \n",
       "9067       active  2018-03-10T05:25:37 CST   Voboril     Reggie        NaN   \n",
       "9078       active  2015-04-20T13:53:23 CDT       NaN        NaN        NaN   \n",
       "10734      active  2017-12-16T15:39:51 CST      Matt     Trevor        NaN   \n",
       "\n",
       "          id  other_id   ID     _merge  \n",
       "930      905       NaN  NaN  left_only  \n",
       "1505    1458       NaN  NaN  left_only  \n",
       "3430    3312       NaN  NaN  left_only  \n",
       "5406    5234       NaN  NaN  left_only  \n",
       "6411    6211       NaN  NaN  left_only  \n",
       "6737    6523       NaN  NaN  left_only  \n",
       "9067    8777       NaN  NaN  left_only  \n",
       "9078    8788       NaN  NaN  left_only  \n",
       "10734  10388       NaN  NaN  left_only  "
      ]
     },
     "execution_count": 23,
     "metadata": {},
     "output_type": "execute_result"
    }
   ],
   "source": [
    "data3[data3['_merge'] == 'left_only']"
   ]
  },
  {
   "cell_type": "code",
   "execution_count": null,
   "metadata": {},
   "outputs": [],
   "source": []
  }
 ],
 "metadata": {
  "hide_input": false,
  "kernelspec": {
   "display_name": "Python 3",
   "language": "python",
   "name": "python3"
  },
  "language_info": {
   "codemirror_mode": {
    "name": "ipython",
    "version": 3
   },
   "file_extension": ".py",
   "mimetype": "text/x-python",
   "name": "python",
   "nbconvert_exporter": "python",
   "pygments_lexer": "ipython3",
   "version": "3.6.5"
  }
 },
 "nbformat": 4,
 "nbformat_minor": 2
}
